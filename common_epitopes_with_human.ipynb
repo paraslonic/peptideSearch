{
 "cells": [
  {
   "cell_type": "markdown",
   "metadata": {},
   "source": [
    "# Общие эпитопы ковида и человека\n",
    "### Ищем регионы шириной 9 и 14 а.к., сходство минимум 90%\n",
    "***"
   ]
  },
  {
   "cell_type": "markdown",
   "metadata": {},
   "source": [
    "# [18.09]"
   ]
  },
  {
   "cell_type": "code",
   "execution_count": 3,
   "metadata": {},
   "outputs": [],
   "source": [
    "peplen = 5"
   ]
  },
  {
   "cell_type": "code",
   "execution_count": 19,
   "metadata": {},
   "outputs": [],
   "source": [
    "from Bio import SeqIO\n",
    "from Bio.Seq import Seq\n",
    "from Bio.SeqRecord import SeqRecord\n",
    "\n",
    "batch = 20\n",
    "peps = []\n",
    "with open(\"wuhan_hu_1.faa\", \"r\") as handle:\n",
    "    q = 1\n",
    "    for record in SeqIO.parse(handle, \"fasta\"):\n",
    "        for i in range(1, len(record.seq)-peplen):\n",
    "            seq_name = record.id + \"_\" + str(i)\n",
    "            seq = Seq(str(record.seq[i:i+peplen]))\n",
    "            sr = SeqRecord(seq, seq_name, '', '')\n",
    "            peps.append(sr)\n",
    "            if(len(peps)>batch):\n",
    "                fname=\"peptides/batch_\"+str(q)+\".fasta\"\n",
    "                with open(fname, \"w\") as output_handle:\n",
    "                    SeqIO.write(peps, output_handle, \"fasta\")\n",
    "                    q = q + 1\n",
    "                    peps = []"
   ]
  },
  {
   "cell_type": "code",
   "execution_count": null,
   "metadata": {},
   "outputs": [],
   "source": [
    "blastp -db uniprot_human -query peptides/batch_1.fasta -word_size 2 -evalue 1000 -outfmt 6"
   ]
  },
  {
   "cell_type": "code",
   "execution_count": 4,
   "metadata": {},
   "outputs": [
    {
     "name": "stdout",
     "output_type": "stream",
     "text": [
      "5\n",
      "\n",
      "\n",
      "\n",
      "\n",
      "\n",
      "\n",
      "\n",
      "\n",
      "\n",
      "\n",
      "\n",
      "\n"
     ]
    }
   ],
   "source": [
    "print(peplen)\n",
    "with open(\"blast/batch_84.out\",\"r\") as handle:\n",
    "    for line in handle:\n",
    "        print()\n"
   ]
  },
  {
   "cell_type": "markdown",
   "metadata": {},
   "source": [
    "# [16.09]"
   ]
  },
  {
   "cell_type": "code",
   "execution_count": 3,
   "metadata": {},
   "outputs": [],
   "source": [
    "gunzip sequences_2020-06-16_13-19.fasta.gz"
   ]
  },
  {
   "cell_type": "code",
   "execution_count": 6,
   "metadata": {},
   "outputs": [
    {
     "name": "stdout",
     "output_type": "stream",
     "text": [
      "\n",
      "\n",
      "Building a new DB, current time: 09/16/2020 16:03:22\n",
      "New DB name:   /data11/bio/PROJECTS/CoV/commotSeqsWithHuman/uniprot_human\n",
      "New DB title:  sequences_2020-06-16_13-19.fasta\n",
      "Sequence type: Protein\n",
      "Keep MBits: T\n",
      "Maximum file size: 1000000000B\n",
      "Adding sequences from FASTA; added 54715 sequences in 1.02822 seconds.\n"
     ]
    }
   ],
   "source": [
    "makeblastdb -in sequences_2020-06-16_13-19.fasta -out uniprot_human -dbtype prot"
   ]
  },
  {
   "cell_type": "code",
   "execution_count": 5,
   "metadata": {},
   "outputs": [],
   "source": [
    "cp ../metatranscriptome/ref/wuhan_hu_1.gb ."
   ]
  },
  {
   "cell_type": "code",
   "execution_count": 2,
   "metadata": {},
   "outputs": [],
   "source": [
    "#faa_sars=\"../gisaid/gisaid/prokka/hCoV_19_Wuhan_Hu_1/hCoV_19_Wuhan_Hu_1.faa\""
   ]
  },
  {
   "cell_type": "code",
   "execution_count": 8,
   "metadata": {},
   "outputs": [],
   "source": [
    "GB2faa.pl wuhan_hu_1.gb > wuhan_hu_1.faa\n",
    "faa_sars=\"wuhan_hu_1.faa\""
   ]
  },
  {
   "cell_type": "code",
   "execution_count": 15,
   "metadata": {},
   "outputs": [
    {
     "name": "stdout",
     "output_type": "stream",
     "text": [
      "143 blast_results\n"
     ]
    }
   ],
   "source": [
    "blastp -db uniprot_human -query $faa_sars -outfmt 6 -evalue 30 > blast_results\n",
    "wc -l blast_results"
   ]
  },
  {
   "cell_type": "code",
   "execution_count": 10,
   "metadata": {},
   "outputs": [],
   "source": [
    "blastp -db uniprot_human -query $faa_sars > blast_results_full"
   ]
  },
  {
   "cell_type": "markdown",
   "metadata": {},
   "source": [
    "### look blast results\n",
    "***"
   ]
  },
  {
   "cell_type": "code",
   "execution_count": 4,
   "metadata": {},
   "outputs": [],
   "source": [
    "blast = read.delim(\"blast_results\", head = F)"
   ]
  },
  {
   "cell_type": "code",
   "execution_count": 6,
   "metadata": {},
   "outputs": [],
   "source": [
    "colnames(blast) = c(\"qid\", \"sid\", \"identity\", \"length\", \"mismatches\", \"gaps\", \"qstart\", \"qend\", \"sstart\", \"send\", \"evalue\", \"bitscore\")"
   ]
  },
  {
   "cell_type": "code",
   "execution_count": 10,
   "metadata": {},
   "outputs": [],
   "source": [
    "blast = blast[order(-blast$identity),]\n"
   ]
  },
  {
   "cell_type": "code",
   "execution_count": 11,
   "metadata": {},
   "outputs": [
    {
     "data": {
      "text/html": [
       "<table>\n",
       "<thead><tr><th></th><th scope=col>qid</th><th scope=col>sid</th><th scope=col>identity</th><th scope=col>length</th><th scope=col>mismatches</th><th scope=col>gaps</th><th scope=col>qstart</th><th scope=col>qend</th><th scope=col>sstart</th><th scope=col>send</th><th scope=col>evalue</th><th scope=col>bitscore</th></tr></thead>\n",
       "<tbody>\n",
       "\t<tr><th scope=row>14</th><td>hCoV_19_Wuhan_Hu_1_00002      </td><td>tr|A0A5K1VW56|A0A5K1VW56_HUMAN</td><td>53.846                        </td><td>26                            </td><td>12                            </td><td>0                             </td><td>1096                          </td><td>1121                          </td><td>237                           </td><td>262                           </td><td>3.2                           </td><td>32.7                          </td></tr>\n",
       "\t<tr><th scope=row>44</th><td>hCoV_19_Wuhan_Hu_1_00004      </td><td>tr|A0A0A0MT16|A0A0A0MT16_HUMAN</td><td>50.000                        </td><td>20                            </td><td>10                            </td><td>0                             </td><td> 127                          </td><td> 146                          </td><td> 12                           </td><td> 31                           </td><td>3.4                           </td><td>29.6                          </td></tr>\n",
       "\t<tr><th scope=row>50</th><td>hCoV_19_Wuhan_Hu_1_00007      </td><td>tr|K7EQ58|K7EQ58_HUMAN        </td><td>47.368                        </td><td>19                            </td><td>10                            </td><td>0                             </td><td>  35                          </td><td>  53                          </td><td>116                           </td><td>134                           </td><td>3.7                           </td><td>26.6                          </td></tr>\n",
       "\t<tr><th scope=row>51</th><td>hCoV_19_Wuhan_Hu_1_00007      </td><td>tr|E9PL27|E9PL27_HUMAN        </td><td>47.368                        </td><td>19                            </td><td>10                            </td><td>0                             </td><td>  35                          </td><td>  53                          </td><td>116                           </td><td>134                           </td><td>3.8                           </td><td>26.6                          </td></tr>\n",
       "\t<tr><th scope=row>52</th><td>hCoV_19_Wuhan_Hu_1_00007      </td><td>tr|E9PRR6|E9PRR6_HUMAN        </td><td>47.368                        </td><td>19                            </td><td>10                            </td><td>0                             </td><td>  35                          </td><td>  53                          </td><td>116                           </td><td>134                           </td><td>4.5                           </td><td>26.6                          </td></tr>\n",
       "\t<tr><th scope=row>57</th><td>hCoV_19_Wuhan_Hu_1_00008      </td><td>tr|B4DWB8|B4DWB8_HUMAN        </td><td>44.828                        </td><td>29                            </td><td>15                            </td><td>1                             </td><td>  76                          </td><td> 103                          </td><td>140                           </td><td>168                           </td><td>2.3                           </td><td>27.7                          </td></tr>\n",
       "</tbody>\n",
       "</table>\n"
      ],
      "text/latex": [
       "\\begin{tabular}{r|llllllllllll}\n",
       "  & qid & sid & identity & length & mismatches & gaps & qstart & qend & sstart & send & evalue & bitscore\\\\\n",
       "\\hline\n",
       "\t14 & hCoV\\_19\\_Wuhan\\_Hu\\_1\\_00002                   & tr\\textbar{}A0A5K1VW56\\textbar{}A0A5K1VW56\\_HUMAN & 53.846                                               & 26                                                   & 12                                                   & 0                                                    & 1096                                                 & 1121                                                 & 237                                                  & 262                                                  & 3.2                                                  & 32.7                                                \\\\\n",
       "\t44 & hCoV\\_19\\_Wuhan\\_Hu\\_1\\_00004                   & tr\\textbar{}A0A0A0MT16\\textbar{}A0A0A0MT16\\_HUMAN & 50.000                                               & 20                                                   & 10                                                   & 0                                                    &  127                                                 &  146                                                 &  12                                                  &  31                                                  & 3.4                                                  & 29.6                                                \\\\\n",
       "\t50 & hCoV\\_19\\_Wuhan\\_Hu\\_1\\_00007                   & tr\\textbar{}K7EQ58\\textbar{}K7EQ58\\_HUMAN         & 47.368                                               & 19                                                   & 10                                                   & 0                                                    &   35                                                 &   53                                                 & 116                                                  & 134                                                  & 3.7                                                  & 26.6                                                \\\\\n",
       "\t51 & hCoV\\_19\\_Wuhan\\_Hu\\_1\\_00007                   & tr\\textbar{}E9PL27\\textbar{}E9PL27\\_HUMAN         & 47.368                                               & 19                                                   & 10                                                   & 0                                                    &   35                                                 &   53                                                 & 116                                                  & 134                                                  & 3.8                                                  & 26.6                                                \\\\\n",
       "\t52 & hCoV\\_19\\_Wuhan\\_Hu\\_1\\_00007                   & tr\\textbar{}E9PRR6\\textbar{}E9PRR6\\_HUMAN         & 47.368                                               & 19                                                   & 10                                                   & 0                                                    &   35                                                 &   53                                                 & 116                                                  & 134                                                  & 4.5                                                  & 26.6                                                \\\\\n",
       "\t57 & hCoV\\_19\\_Wuhan\\_Hu\\_1\\_00008                   & tr\\textbar{}B4DWB8\\textbar{}B4DWB8\\_HUMAN         & 44.828                                               & 29                                                   & 15                                                   & 1                                                    &   76                                                 &  103                                                 & 140                                                  & 168                                                  & 2.3                                                  & 27.7                                                \\\\\n",
       "\\end{tabular}\n"
      ],
      "text/markdown": [
       "\n",
       "| <!--/--> | qid | sid | identity | length | mismatches | gaps | qstart | qend | sstart | send | evalue | bitscore |\n",
       "|---|---|---|---|---|---|---|---|---|---|---|---|---|\n",
       "| 14 | hCoV_19_Wuhan_Hu_1_00002       | tr|A0A5K1VW56|A0A5K1VW56_HUMAN | 53.846                         | 26                             | 12                             | 0                              | 1096                           | 1121                           | 237                            | 262                            | 3.2                            | 32.7                           |\n",
       "| 44 | hCoV_19_Wuhan_Hu_1_00004       | tr|A0A0A0MT16|A0A0A0MT16_HUMAN | 50.000                         | 20                             | 10                             | 0                              |  127                           |  146                           |  12                            |  31                            | 3.4                            | 29.6                           |\n",
       "| 50 | hCoV_19_Wuhan_Hu_1_00007       | tr|K7EQ58|K7EQ58_HUMAN         | 47.368                         | 19                             | 10                             | 0                              |   35                           |   53                           | 116                            | 134                            | 3.7                            | 26.6                           |\n",
       "| 51 | hCoV_19_Wuhan_Hu_1_00007       | tr|E9PL27|E9PL27_HUMAN         | 47.368                         | 19                             | 10                             | 0                              |   35                           |   53                           | 116                            | 134                            | 3.8                            | 26.6                           |\n",
       "| 52 | hCoV_19_Wuhan_Hu_1_00007       | tr|E9PRR6|E9PRR6_HUMAN         | 47.368                         | 19                             | 10                             | 0                              |   35                           |   53                           | 116                            | 134                            | 4.5                            | 26.6                           |\n",
       "| 57 | hCoV_19_Wuhan_Hu_1_00008       | tr|B4DWB8|B4DWB8_HUMAN         | 44.828                         | 29                             | 15                             | 1                              |   76                           |  103                           | 140                            | 168                            | 2.3                            | 27.7                           |\n",
       "\n"
      ],
      "text/plain": [
       "   qid                      sid                            identity length\n",
       "14 hCoV_19_Wuhan_Hu_1_00002 tr|A0A5K1VW56|A0A5K1VW56_HUMAN 53.846   26    \n",
       "44 hCoV_19_Wuhan_Hu_1_00004 tr|A0A0A0MT16|A0A0A0MT16_HUMAN 50.000   20    \n",
       "50 hCoV_19_Wuhan_Hu_1_00007 tr|K7EQ58|K7EQ58_HUMAN         47.368   19    \n",
       "51 hCoV_19_Wuhan_Hu_1_00007 tr|E9PL27|E9PL27_HUMAN         47.368   19    \n",
       "52 hCoV_19_Wuhan_Hu_1_00007 tr|E9PRR6|E9PRR6_HUMAN         47.368   19    \n",
       "57 hCoV_19_Wuhan_Hu_1_00008 tr|B4DWB8|B4DWB8_HUMAN         44.828   29    \n",
       "   mismatches gaps qstart qend sstart send evalue bitscore\n",
       "14 12         0    1096   1121 237    262  3.2    32.7    \n",
       "44 10         0     127    146  12     31  3.4    29.6    \n",
       "50 10         0      35     53 116    134  3.7    26.6    \n",
       "51 10         0      35     53 116    134  3.8    26.6    \n",
       "52 10         0      35     53 116    134  4.5    26.6    \n",
       "57 15         1      76    103 140    168  2.3    27.7    "
      ]
     },
     "metadata": {},
     "output_type": "display_data"
    }
   ],
   "source": [
    "head(blast)"
   ]
  },
  {
   "cell_type": "code",
   "execution_count": null,
   "metadata": {},
   "outputs": [],
   "source": []
  }
 ],
 "metadata": {
  "kernelspec": {
   "display_name": "Python 3",
   "language": "python",
   "name": "python3"
  },
  "language_info": {
   "codemirror_mode": {
    "name": "ipython",
    "version": 3
   },
   "file_extension": ".py",
   "mimetype": "text/x-python",
   "name": "python",
   "nbconvert_exporter": "python",
   "pygments_lexer": "ipython3",
   "version": "3.7.4"
  }
 },
 "nbformat": 4,
 "nbformat_minor": 4
}
