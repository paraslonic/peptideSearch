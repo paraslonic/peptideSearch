{
 "cells": [
  {
   "cell_type": "markdown",
   "metadata": {},
   "source": [
    "# Общие эпитопы ковида и человека\n",
    "### Ищем регионы шириной 9 и 14 а.к., сходство минимум 90%\n",
    "***"
   ]
  },
  {
   "cell_type": "markdown",
   "metadata": {},
   "source": [
    "# [18.09]"
   ]
  },
  {
   "cell_type": "code",
   "execution_count": 3,
   "metadata": {},
   "outputs": [],
   "source": [
    "peplen = 5"
   ]
  },
  {
   "cell_type": "code",
   "execution_count": 19,
   "metadata": {},
   "outputs": [],
   "source": [
    "from Bio import SeqIO\n",
    "from Bio.Seq import Seq\n",
    "from Bio.SeqRecord import SeqRecord\n",
    "\n",
    "batch = 20\n",
    "peps = []\n",
    "with open(\"wuhan_hu_1.faa\", \"r\") as handle:\n",
    "    q = 1\n",
    "    for record in SeqIO.parse(handle, \"fasta\"):\n",
    "        for i in range(1, len(record.seq)-peplen):\n",
    "            seq_name = record.id + \"_\" + str(i)\n",
    "            seq = Seq(str(record.seq[i:i+peplen]))\n",
    "            sr = SeqRecord(seq, seq_name, '', '')\n",
    "            peps.append(sr)\n",
    "            if(len(peps)>batch):\n",
    "                fname=\"peptides/batch_\"+str(q)+\".fasta\"\n",
    "                with open(fname, \"w\") as output_handle:\n",
    "                    SeqIO.write(peps, output_handle, \"fasta\")\n",
    "                    q = q + 1\n",
    "                    peps = []"
   ]
  },
  {
   "cell_type": "code",
   "execution_count": null,
   "metadata": {},
   "outputs": [],
   "source": [
    "!blastp -db uniprot_human -query peptides/batch_1.fasta -word_size 2 -evalue 1000 -outfmt '6 std nident salltitles'"
   ]
  },
  {
   "cell_type": "code",
   "execution_count": 30,
   "metadata": {},
   "outputs": [],
   "source": [
    "!mkdir -p result\n",
    "!cat blast/*.out > result/blast.out "
   ]
  },
  {
   "cell_type": "code",
   "execution_count": 27,
   "metadata": {},
   "outputs": [
    {
     "name": "stdout",
     "output_type": "stream",
     "text": [
      "5\n"
     ]
    },
    {
     "data": {
      "text/html": [
       "<div>\n",
       "<style scoped>\n",
       "    .dataframe tbody tr th:only-of-type {\n",
       "        vertical-align: middle;\n",
       "    }\n",
       "\n",
       "    .dataframe tbody tr th {\n",
       "        vertical-align: top;\n",
       "    }\n",
       "\n",
       "    .dataframe thead th {\n",
       "        text-align: right;\n",
       "    }\n",
       "</style>\n",
       "<table border=\"1\" class=\"dataframe\">\n",
       "  <thead>\n",
       "    <tr style=\"text-align: right;\">\n",
       "      <th></th>\n",
       "      <th>qseqid</th>\n",
       "      <th>sseqid</th>\n",
       "      <th>pident</th>\n",
       "      <th>length</th>\n",
       "      <th>mismatch</th>\n",
       "      <th>gapopen</th>\n",
       "      <th>qstart</th>\n",
       "      <th>qend</th>\n",
       "      <th>sstart</th>\n",
       "      <th>send</th>\n",
       "      <th>evalue</th>\n",
       "      <th>bitscore</th>\n",
       "      <th>nident</th>\n",
       "    </tr>\n",
       "  </thead>\n",
       "  <tbody>\n",
       "    <tr>\n",
       "      <td>1</td>\n",
       "      <td>wuhan_hu_1|1|orf1ab_polyprotein|MN908947|266|2...</td>\n",
       "      <td>tr|B3KUL3|B3KUL3_HUMAN</td>\n",
       "      <td>100.0</td>\n",
       "      <td>5</td>\n",
       "      <td>0</td>\n",
       "      <td>0</td>\n",
       "      <td>1</td>\n",
       "      <td>5</td>\n",
       "      <td>85</td>\n",
       "      <td>89</td>\n",
       "      <td>66.0</td>\n",
       "      <td>17.7</td>\n",
       "      <td>5</td>\n",
       "    </tr>\n",
       "    <tr>\n",
       "      <td>2</td>\n",
       "      <td>wuhan_hu_1|1|orf1ab_polyprotein|MN908947|266|2...</td>\n",
       "      <td>tr|F6VJS9|F6VJS9_HUMAN</td>\n",
       "      <td>100.0</td>\n",
       "      <td>5</td>\n",
       "      <td>0</td>\n",
       "      <td>0</td>\n",
       "      <td>1</td>\n",
       "      <td>5</td>\n",
       "      <td>9</td>\n",
       "      <td>13</td>\n",
       "      <td>68.0</td>\n",
       "      <td>17.7</td>\n",
       "      <td>5</td>\n",
       "    </tr>\n",
       "    <tr>\n",
       "      <td>3</td>\n",
       "      <td>wuhan_hu_1|1|orf1ab_polyprotein|MN908947|266|2...</td>\n",
       "      <td>tr|A0A087WZ62|A0A087WZ62_HUMAN</td>\n",
       "      <td>100.0</td>\n",
       "      <td>5</td>\n",
       "      <td>0</td>\n",
       "      <td>0</td>\n",
       "      <td>1</td>\n",
       "      <td>5</td>\n",
       "      <td>174</td>\n",
       "      <td>178</td>\n",
       "      <td>96.0</td>\n",
       "      <td>16.9</td>\n",
       "      <td>5</td>\n",
       "    </tr>\n",
       "    <tr>\n",
       "      <td>6</td>\n",
       "      <td>wuhan_hu_1|1|orf1ab_polyprotein|MN908947|266|2...</td>\n",
       "      <td>tr|A0A087WVS3|A0A087WVS3_HUMAN</td>\n",
       "      <td>100.0</td>\n",
       "      <td>5</td>\n",
       "      <td>0</td>\n",
       "      <td>0</td>\n",
       "      <td>1</td>\n",
       "      <td>5</td>\n",
       "      <td>370</td>\n",
       "      <td>374</td>\n",
       "      <td>31.0</td>\n",
       "      <td>18.5</td>\n",
       "      <td>5</td>\n",
       "    </tr>\n",
       "    <tr>\n",
       "      <td>7</td>\n",
       "      <td>wuhan_hu_1|1|orf1ab_polyprotein|MN908947|266|2...</td>\n",
       "      <td>tr|A0A087WVW4|A0A087WVW4_HUMAN</td>\n",
       "      <td>100.0</td>\n",
       "      <td>5</td>\n",
       "      <td>0</td>\n",
       "      <td>0</td>\n",
       "      <td>1</td>\n",
       "      <td>5</td>\n",
       "      <td>368</td>\n",
       "      <td>372</td>\n",
       "      <td>31.0</td>\n",
       "      <td>18.5</td>\n",
       "      <td>5</td>\n",
       "    </tr>\n",
       "    <tr>\n",
       "      <td>...</td>\n",
       "      <td>...</td>\n",
       "      <td>...</td>\n",
       "      <td>...</td>\n",
       "      <td>...</td>\n",
       "      <td>...</td>\n",
       "      <td>...</td>\n",
       "      <td>...</td>\n",
       "      <td>...</td>\n",
       "      <td>...</td>\n",
       "      <td>...</td>\n",
       "      <td>...</td>\n",
       "      <td>...</td>\n",
       "      <td>...</td>\n",
       "    </tr>\n",
       "    <tr>\n",
       "      <td>1486</td>\n",
       "      <td>wuhan_hu_1|1|orf1ab_polyprotein|MN908947|266|2...</td>\n",
       "      <td>tr|A0A126GWB3|A0A126GWB3_HUMAN</td>\n",
       "      <td>100.0</td>\n",
       "      <td>5</td>\n",
       "      <td>0</td>\n",
       "      <td>0</td>\n",
       "      <td>1</td>\n",
       "      <td>5</td>\n",
       "      <td>170</td>\n",
       "      <td>174</td>\n",
       "      <td>39.0</td>\n",
       "      <td>18.1</td>\n",
       "      <td>5</td>\n",
       "    </tr>\n",
       "    <tr>\n",
       "      <td>1487</td>\n",
       "      <td>wuhan_hu_1|1|orf1ab_polyprotein|MN908947|266|2...</td>\n",
       "      <td>tr|A0A286YFF0|A0A286YFF0_HUMAN</td>\n",
       "      <td>100.0</td>\n",
       "      <td>5</td>\n",
       "      <td>0</td>\n",
       "      <td>0</td>\n",
       "      <td>1</td>\n",
       "      <td>5</td>\n",
       "      <td>170</td>\n",
       "      <td>174</td>\n",
       "      <td>49.0</td>\n",
       "      <td>18.1</td>\n",
       "      <td>5</td>\n",
       "    </tr>\n",
       "    <tr>\n",
       "      <td>1488</td>\n",
       "      <td>wuhan_hu_1|1|orf1ab_polyprotein|MN908947|266|2...</td>\n",
       "      <td>tr|A0A087X1K4|A0A087X1K4_HUMAN</td>\n",
       "      <td>100.0</td>\n",
       "      <td>5</td>\n",
       "      <td>0</td>\n",
       "      <td>0</td>\n",
       "      <td>1</td>\n",
       "      <td>5</td>\n",
       "      <td>176</td>\n",
       "      <td>180</td>\n",
       "      <td>56.0</td>\n",
       "      <td>17.7</td>\n",
       "      <td>5</td>\n",
       "    </tr>\n",
       "    <tr>\n",
       "      <td>1490</td>\n",
       "      <td>wuhan_hu_1|1|orf1ab_polyprotein|MN908947|266|2...</td>\n",
       "      <td>tr|I3L466|I3L466_HUMAN</td>\n",
       "      <td>100.0</td>\n",
       "      <td>5</td>\n",
       "      <td>0</td>\n",
       "      <td>0</td>\n",
       "      <td>1</td>\n",
       "      <td>5</td>\n",
       "      <td>851</td>\n",
       "      <td>855</td>\n",
       "      <td>85.0</td>\n",
       "      <td>17.3</td>\n",
       "      <td>5</td>\n",
       "    </tr>\n",
       "    <tr>\n",
       "      <td>1503</td>\n",
       "      <td>wuhan_hu_1|1|orf1ab_polyprotein|MN908947|266|2...</td>\n",
       "      <td>tr|B1AL69|B1AL69_HUMAN</td>\n",
       "      <td>100.0</td>\n",
       "      <td>5</td>\n",
       "      <td>0</td>\n",
       "      <td>0</td>\n",
       "      <td>1</td>\n",
       "      <td>5</td>\n",
       "      <td>124</td>\n",
       "      <td>128</td>\n",
       "      <td>83.0</td>\n",
       "      <td>17.3</td>\n",
       "      <td>5</td>\n",
       "    </tr>\n",
       "  </tbody>\n",
       "</table>\n",
       "<p>725 rows × 13 columns</p>\n",
       "</div>"
      ],
      "text/plain": [
       "                                                 qseqid  \\\n",
       "1     wuhan_hu_1|1|orf1ab_polyprotein|MN908947|266|2...   \n",
       "2     wuhan_hu_1|1|orf1ab_polyprotein|MN908947|266|2...   \n",
       "3     wuhan_hu_1|1|orf1ab_polyprotein|MN908947|266|2...   \n",
       "6     wuhan_hu_1|1|orf1ab_polyprotein|MN908947|266|2...   \n",
       "7     wuhan_hu_1|1|orf1ab_polyprotein|MN908947|266|2...   \n",
       "...                                                 ...   \n",
       "1486  wuhan_hu_1|1|orf1ab_polyprotein|MN908947|266|2...   \n",
       "1487  wuhan_hu_1|1|orf1ab_polyprotein|MN908947|266|2...   \n",
       "1488  wuhan_hu_1|1|orf1ab_polyprotein|MN908947|266|2...   \n",
       "1490  wuhan_hu_1|1|orf1ab_polyprotein|MN908947|266|2...   \n",
       "1503  wuhan_hu_1|1|orf1ab_polyprotein|MN908947|266|2...   \n",
       "\n",
       "                              sseqid  pident  length  mismatch  gapopen  \\\n",
       "1             tr|B3KUL3|B3KUL3_HUMAN   100.0       5         0        0   \n",
       "2             tr|F6VJS9|F6VJS9_HUMAN   100.0       5         0        0   \n",
       "3     tr|A0A087WZ62|A0A087WZ62_HUMAN   100.0       5         0        0   \n",
       "6     tr|A0A087WVS3|A0A087WVS3_HUMAN   100.0       5         0        0   \n",
       "7     tr|A0A087WVW4|A0A087WVW4_HUMAN   100.0       5         0        0   \n",
       "...                              ...     ...     ...       ...      ...   \n",
       "1486  tr|A0A126GWB3|A0A126GWB3_HUMAN   100.0       5         0        0   \n",
       "1487  tr|A0A286YFF0|A0A286YFF0_HUMAN   100.0       5         0        0   \n",
       "1488  tr|A0A087X1K4|A0A087X1K4_HUMAN   100.0       5         0        0   \n",
       "1490          tr|I3L466|I3L466_HUMAN   100.0       5         0        0   \n",
       "1503          tr|B1AL69|B1AL69_HUMAN   100.0       5         0        0   \n",
       "\n",
       "      qstart  qend  sstart  send  evalue  bitscore  nident  \n",
       "1          1     5      85    89    66.0      17.7       5  \n",
       "2          1     5       9    13    68.0      17.7       5  \n",
       "3          1     5     174   178    96.0      16.9       5  \n",
       "6          1     5     370   374    31.0      18.5       5  \n",
       "7          1     5     368   372    31.0      18.5       5  \n",
       "...      ...   ...     ...   ...     ...       ...     ...  \n",
       "1486       1     5     170   174    39.0      18.1       5  \n",
       "1487       1     5     170   174    49.0      18.1       5  \n",
       "1488       1     5     176   180    56.0      17.7       5  \n",
       "1490       1     5     851   855    85.0      17.3       5  \n",
       "1503       1     5     124   128    83.0      17.3       5  \n",
       "\n",
       "[725 rows x 13 columns]"
      ]
     },
     "execution_count": 27,
     "metadata": {},
     "output_type": "execute_result"
    }
   ],
   "source": [
    "print(peplen)\n",
    "import pandas as pd\n",
    "blast = pd.read_csv(\"result/blast.out\", sep=\"\\t\", header = None)\n",
    "blast.columns=[\"qseqid\", 'sseqid', 'pident', 'length', 'mismatch', 'gapopen', 'qstart', 'qend', 'sstart', 'send', 'evalue', 'bitscore', 'nident']\n",
    "blast_ok = blast[blast[\"nident\"]==peplen]\n",
    "blast_ok\n",
    "    "
   ]
  },
  {
   "cell_type": "markdown",
   "metadata": {},
   "source": [
    "# [16.09]"
   ]
  },
  {
   "cell_type": "code",
   "execution_count": 3,
   "metadata": {},
   "outputs": [],
   "source": [
    "gunzip sequences_2020-06-16_13-19.fasta.gz"
   ]
  },
  {
   "cell_type": "code",
   "execution_count": 6,
   "metadata": {},
   "outputs": [
    {
     "name": "stdout",
     "output_type": "stream",
     "text": [
      "\n",
      "\n",
      "Building a new DB, current time: 09/16/2020 16:03:22\n",
      "New DB name:   /data11/bio/PROJECTS/CoV/commotSeqsWithHuman/uniprot_human\n",
      "New DB title:  sequences_2020-06-16_13-19.fasta\n",
      "Sequence type: Protein\n",
      "Keep MBits: T\n",
      "Maximum file size: 1000000000B\n",
      "Adding sequences from FASTA; added 54715 sequences in 1.02822 seconds.\n"
     ]
    }
   ],
   "source": [
    "makeblastdb -in sequences_2020-06-16_13-19.fasta -out uniprot_human -dbtype prot"
   ]
  },
  {
   "cell_type": "code",
   "execution_count": 5,
   "metadata": {},
   "outputs": [],
   "source": [
    "cp ../metatranscriptome/ref/wuhan_hu_1.gb ."
   ]
  },
  {
   "cell_type": "code",
   "execution_count": 2,
   "metadata": {},
   "outputs": [],
   "source": [
    "#faa_sars=\"../gisaid/gisaid/prokka/hCoV_19_Wuhan_Hu_1/hCoV_19_Wuhan_Hu_1.faa\""
   ]
  },
  {
   "cell_type": "code",
   "execution_count": 8,
   "metadata": {},
   "outputs": [],
   "source": [
    "GB2faa.pl wuhan_hu_1.gb > wuhan_hu_1.faa\n",
    "faa_sars=\"wuhan_hu_1.faa\""
   ]
  },
  {
   "cell_type": "code",
   "execution_count": 15,
   "metadata": {},
   "outputs": [
    {
     "name": "stdout",
     "output_type": "stream",
     "text": [
      "143 blast_results\n"
     ]
    }
   ],
   "source": [
    "blastp -db uniprot_human -query $faa_sars -outfmt 6 -evalue 30 > blast_results\n",
    "wc -l blast_results"
   ]
  },
  {
   "cell_type": "code",
   "execution_count": 10,
   "metadata": {},
   "outputs": [],
   "source": [
    "blastp -db uniprot_human -query $faa_sars > blast_results_full"
   ]
  },
  {
   "cell_type": "markdown",
   "metadata": {},
   "source": [
    "### look blast results\n",
    "***"
   ]
  },
  {
   "cell_type": "code",
   "execution_count": 4,
   "metadata": {},
   "outputs": [],
   "source": [
    "blast = read.delim(\"blast_results\", head = F)"
   ]
  },
  {
   "cell_type": "code",
   "execution_count": 6,
   "metadata": {},
   "outputs": [],
   "source": [
    "colnames(blast) = c(\"qid\", \"sid\", \"identity\", \"length\", \"mismatches\", \"gaps\", \"qstart\", \"qend\", \"sstart\", \"send\", \"evalue\", \"bitscore\")"
   ]
  },
  {
   "cell_type": "code",
   "execution_count": 10,
   "metadata": {},
   "outputs": [],
   "source": [
    "blast = blast[order(-blast$identity),]\n"
   ]
  },
  {
   "cell_type": "code",
   "execution_count": 11,
   "metadata": {},
   "outputs": [
    {
     "data": {
      "text/html": [
       "<table>\n",
       "<thead><tr><th></th><th scope=col>qid</th><th scope=col>sid</th><th scope=col>identity</th><th scope=col>length</th><th scope=col>mismatches</th><th scope=col>gaps</th><th scope=col>qstart</th><th scope=col>qend</th><th scope=col>sstart</th><th scope=col>send</th><th scope=col>evalue</th><th scope=col>bitscore</th></tr></thead>\n",
       "<tbody>\n",
       "\t<tr><th scope=row>14</th><td>hCoV_19_Wuhan_Hu_1_00002      </td><td>tr|A0A5K1VW56|A0A5K1VW56_HUMAN</td><td>53.846                        </td><td>26                            </td><td>12                            </td><td>0                             </td><td>1096                          </td><td>1121                          </td><td>237                           </td><td>262                           </td><td>3.2                           </td><td>32.7                          </td></tr>\n",
       "\t<tr><th scope=row>44</th><td>hCoV_19_Wuhan_Hu_1_00004      </td><td>tr|A0A0A0MT16|A0A0A0MT16_HUMAN</td><td>50.000                        </td><td>20                            </td><td>10                            </td><td>0                             </td><td> 127                          </td><td> 146                          </td><td> 12                           </td><td> 31                           </td><td>3.4                           </td><td>29.6                          </td></tr>\n",
       "\t<tr><th scope=row>50</th><td>hCoV_19_Wuhan_Hu_1_00007      </td><td>tr|K7EQ58|K7EQ58_HUMAN        </td><td>47.368                        </td><td>19                            </td><td>10                            </td><td>0                             </td><td>  35                          </td><td>  53                          </td><td>116                           </td><td>134                           </td><td>3.7                           </td><td>26.6                          </td></tr>\n",
       "\t<tr><th scope=row>51</th><td>hCoV_19_Wuhan_Hu_1_00007      </td><td>tr|E9PL27|E9PL27_HUMAN        </td><td>47.368                        </td><td>19                            </td><td>10                            </td><td>0                             </td><td>  35                          </td><td>  53                          </td><td>116                           </td><td>134                           </td><td>3.8                           </td><td>26.6                          </td></tr>\n",
       "\t<tr><th scope=row>52</th><td>hCoV_19_Wuhan_Hu_1_00007      </td><td>tr|E9PRR6|E9PRR6_HUMAN        </td><td>47.368                        </td><td>19                            </td><td>10                            </td><td>0                             </td><td>  35                          </td><td>  53                          </td><td>116                           </td><td>134                           </td><td>4.5                           </td><td>26.6                          </td></tr>\n",
       "\t<tr><th scope=row>57</th><td>hCoV_19_Wuhan_Hu_1_00008      </td><td>tr|B4DWB8|B4DWB8_HUMAN        </td><td>44.828                        </td><td>29                            </td><td>15                            </td><td>1                             </td><td>  76                          </td><td> 103                          </td><td>140                           </td><td>168                           </td><td>2.3                           </td><td>27.7                          </td></tr>\n",
       "</tbody>\n",
       "</table>\n"
      ],
      "text/latex": [
       "\\begin{tabular}{r|llllllllllll}\n",
       "  & qid & sid & identity & length & mismatches & gaps & qstart & qend & sstart & send & evalue & bitscore\\\\\n",
       "\\hline\n",
       "\t14 & hCoV\\_19\\_Wuhan\\_Hu\\_1\\_00002                   & tr\\textbar{}A0A5K1VW56\\textbar{}A0A5K1VW56\\_HUMAN & 53.846                                               & 26                                                   & 12                                                   & 0                                                    & 1096                                                 & 1121                                                 & 237                                                  & 262                                                  & 3.2                                                  & 32.7                                                \\\\\n",
       "\t44 & hCoV\\_19\\_Wuhan\\_Hu\\_1\\_00004                   & tr\\textbar{}A0A0A0MT16\\textbar{}A0A0A0MT16\\_HUMAN & 50.000                                               & 20                                                   & 10                                                   & 0                                                    &  127                                                 &  146                                                 &  12                                                  &  31                                                  & 3.4                                                  & 29.6                                                \\\\\n",
       "\t50 & hCoV\\_19\\_Wuhan\\_Hu\\_1\\_00007                   & tr\\textbar{}K7EQ58\\textbar{}K7EQ58\\_HUMAN         & 47.368                                               & 19                                                   & 10                                                   & 0                                                    &   35                                                 &   53                                                 & 116                                                  & 134                                                  & 3.7                                                  & 26.6                                                \\\\\n",
       "\t51 & hCoV\\_19\\_Wuhan\\_Hu\\_1\\_00007                   & tr\\textbar{}E9PL27\\textbar{}E9PL27\\_HUMAN         & 47.368                                               & 19                                                   & 10                                                   & 0                                                    &   35                                                 &   53                                                 & 116                                                  & 134                                                  & 3.8                                                  & 26.6                                                \\\\\n",
       "\t52 & hCoV\\_19\\_Wuhan\\_Hu\\_1\\_00007                   & tr\\textbar{}E9PRR6\\textbar{}E9PRR6\\_HUMAN         & 47.368                                               & 19                                                   & 10                                                   & 0                                                    &   35                                                 &   53                                                 & 116                                                  & 134                                                  & 4.5                                                  & 26.6                                                \\\\\n",
       "\t57 & hCoV\\_19\\_Wuhan\\_Hu\\_1\\_00008                   & tr\\textbar{}B4DWB8\\textbar{}B4DWB8\\_HUMAN         & 44.828                                               & 29                                                   & 15                                                   & 1                                                    &   76                                                 &  103                                                 & 140                                                  & 168                                                  & 2.3                                                  & 27.7                                                \\\\\n",
       "\\end{tabular}\n"
      ],
      "text/markdown": [
       "\n",
       "| <!--/--> | qid | sid | identity | length | mismatches | gaps | qstart | qend | sstart | send | evalue | bitscore |\n",
       "|---|---|---|---|---|---|---|---|---|---|---|---|---|\n",
       "| 14 | hCoV_19_Wuhan_Hu_1_00002       | tr|A0A5K1VW56|A0A5K1VW56_HUMAN | 53.846                         | 26                             | 12                             | 0                              | 1096                           | 1121                           | 237                            | 262                            | 3.2                            | 32.7                           |\n",
       "| 44 | hCoV_19_Wuhan_Hu_1_00004       | tr|A0A0A0MT16|A0A0A0MT16_HUMAN | 50.000                         | 20                             | 10                             | 0                              |  127                           |  146                           |  12                            |  31                            | 3.4                            | 29.6                           |\n",
       "| 50 | hCoV_19_Wuhan_Hu_1_00007       | tr|K7EQ58|K7EQ58_HUMAN         | 47.368                         | 19                             | 10                             | 0                              |   35                           |   53                           | 116                            | 134                            | 3.7                            | 26.6                           |\n",
       "| 51 | hCoV_19_Wuhan_Hu_1_00007       | tr|E9PL27|E9PL27_HUMAN         | 47.368                         | 19                             | 10                             | 0                              |   35                           |   53                           | 116                            | 134                            | 3.8                            | 26.6                           |\n",
       "| 52 | hCoV_19_Wuhan_Hu_1_00007       | tr|E9PRR6|E9PRR6_HUMAN         | 47.368                         | 19                             | 10                             | 0                              |   35                           |   53                           | 116                            | 134                            | 4.5                            | 26.6                           |\n",
       "| 57 | hCoV_19_Wuhan_Hu_1_00008       | tr|B4DWB8|B4DWB8_HUMAN         | 44.828                         | 29                             | 15                             | 1                              |   76                           |  103                           | 140                            | 168                            | 2.3                            | 27.7                           |\n",
       "\n"
      ],
      "text/plain": [
       "   qid                      sid                            identity length\n",
       "14 hCoV_19_Wuhan_Hu_1_00002 tr|A0A5K1VW56|A0A5K1VW56_HUMAN 53.846   26    \n",
       "44 hCoV_19_Wuhan_Hu_1_00004 tr|A0A0A0MT16|A0A0A0MT16_HUMAN 50.000   20    \n",
       "50 hCoV_19_Wuhan_Hu_1_00007 tr|K7EQ58|K7EQ58_HUMAN         47.368   19    \n",
       "51 hCoV_19_Wuhan_Hu_1_00007 tr|E9PL27|E9PL27_HUMAN         47.368   19    \n",
       "52 hCoV_19_Wuhan_Hu_1_00007 tr|E9PRR6|E9PRR6_HUMAN         47.368   19    \n",
       "57 hCoV_19_Wuhan_Hu_1_00008 tr|B4DWB8|B4DWB8_HUMAN         44.828   29    \n",
       "   mismatches gaps qstart qend sstart send evalue bitscore\n",
       "14 12         0    1096   1121 237    262  3.2    32.7    \n",
       "44 10         0     127    146  12     31  3.4    29.6    \n",
       "50 10         0      35     53 116    134  3.7    26.6    \n",
       "51 10         0      35     53 116    134  3.8    26.6    \n",
       "52 10         0      35     53 116    134  4.5    26.6    \n",
       "57 15         1      76    103 140    168  2.3    27.7    "
      ]
     },
     "metadata": {},
     "output_type": "display_data"
    }
   ],
   "source": [
    "head(blast)"
   ]
  },
  {
   "cell_type": "code",
   "execution_count": null,
   "metadata": {},
   "outputs": [],
   "source": []
  }
 ],
 "metadata": {
  "kernelspec": {
   "display_name": "Python 3",
   "language": "python",
   "name": "python3"
  },
  "language_info": {
   "codemirror_mode": {
    "name": "ipython",
    "version": 3
   },
   "file_extension": ".py",
   "mimetype": "text/x-python",
   "name": "python",
   "nbconvert_exporter": "python",
   "pygments_lexer": "ipython3",
   "version": "3.7.4"
  }
 },
 "nbformat": 4,
 "nbformat_minor": 4
}
