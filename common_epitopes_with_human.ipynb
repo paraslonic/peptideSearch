{
 "cells": [
  {
   "cell_type": "markdown",
   "metadata": {},
   "source": [
    "# Общие эпитопы ковида и человека\n",
    "### Ищем регионы шириной 9 и 14 а.к., сходство минимум 90%\n",
    "***"
   ]
  },
  {
   "cell_type": "markdown",
   "metadata": {},
   "source": [
    "# [18.09]"
   ]
  },
  {
   "cell_type": "code",
   "execution_count": 56,
   "metadata": {},
   "outputs": [],
   "source": [
    "peplen = 10"
   ]
  },
  {
   "cell_type": "code",
   "execution_count": 57,
   "metadata": {},
   "outputs": [],
   "source": [
    "from Bio import SeqIO\n",
    "from Bio.Seq import Seq\n",
    "from Bio.SeqRecord import SeqRecord\n",
    "\n",
    "batch = 20\n",
    "peps = []\n",
    "with open(\"wuhan_hu_1.faa\", \"r\") as handle:\n",
    "    q = 1\n",
    "    for record in SeqIO.parse(handle, \"fasta\"):\n",
    "        for i in range(1, len(record.seq)-peplen):\n",
    "            seq_name = record.id + \"_\" + str(i)\n",
    "            seq = Seq(str(record.seq[i:i+peplen]))\n",
    "            sr = SeqRecord(seq, seq_name, '', '')\n",
    "            peps.append(sr)\n",
    "            if(len(peps)>batch):\n",
    "                fname=\"peptides/batch_\"+str(q)+\".fasta\"\n",
    "                with open(fname, \"w\") as output_handle:\n",
    "                    SeqIO.write(peps, output_handle, \"fasta\")\n",
    "                    q = q + 1\n",
    "                    peps = []"
   ]
  },
  {
   "cell_type": "code",
   "execution_count": null,
   "metadata": {},
   "outputs": [],
   "source": [
    "!blastp -db uniprot_human -query peptides/batch_84.fasta -word_size 3 -evalue 1000 -outfmt '6 std nident salltitles'"
   ]
  },
  {
   "cell_type": "code",
   "execution_count": null,
   "metadata": {},
   "outputs": [],
   "source": [
    "!snakemake --cores 120 -rk > slog 2>&1"
   ]
  },
  {
   "cell_type": "code",
   "execution_count": 59,
   "metadata": {},
   "outputs": [],
   "source": [
    "!mkdir -p result\n",
    "!cat blast/*.out > result/blast.out "
   ]
  },
  {
   "cell_type": "code",
   "execution_count": 62,
   "metadata": {},
   "outputs": [
    {
     "name": "stdout",
     "output_type": "stream",
     "text": [
      "10\n"
     ]
    },
    {
     "data": {
      "text/html": [
       "<div>\n",
       "<style scoped>\n",
       "    .dataframe tbody tr th:only-of-type {\n",
       "        vertical-align: middle;\n",
       "    }\n",
       "\n",
       "    .dataframe tbody tr th {\n",
       "        vertical-align: top;\n",
       "    }\n",
       "\n",
       "    .dataframe thead th {\n",
       "        text-align: right;\n",
       "    }\n",
       "</style>\n",
       "<table border=\"1\" class=\"dataframe\">\n",
       "  <thead>\n",
       "    <tr style=\"text-align: right;\">\n",
       "      <th></th>\n",
       "      <th>qseqid</th>\n",
       "      <th>sseqid</th>\n",
       "      <th>pident</th>\n",
       "      <th>length</th>\n",
       "      <th>mismatch</th>\n",
       "      <th>gapopen</th>\n",
       "      <th>qstart</th>\n",
       "      <th>qend</th>\n",
       "      <th>sstart</th>\n",
       "      <th>send</th>\n",
       "      <th>evalue</th>\n",
       "      <th>bitscore</th>\n",
       "      <th>nident</th>\n",
       "      <th>sname</th>\n",
       "    </tr>\n",
       "  </thead>\n",
       "  <tbody>\n",
       "    <tr>\n",
       "      <td>0</td>\n",
       "      <td>wuhan_hu_1|1|orf1ab_polyprotein|MN908947|266|2...</td>\n",
       "      <td>tr|B3KUB4|B3KUB4_HUMAN</td>\n",
       "      <td>75.000</td>\n",
       "      <td>8</td>\n",
       "      <td>2</td>\n",
       "      <td>0</td>\n",
       "      <td>1</td>\n",
       "      <td>8</td>\n",
       "      <td>139</td>\n",
       "      <td>146</td>\n",
       "      <td>47.0</td>\n",
       "      <td>18.5</td>\n",
       "      <td>6</td>\n",
       "      <td>tr|B3KUB4|B3KUB4_HUMAN Carbonic anhydrase OS=H...</td>\n",
       "    </tr>\n",
       "    <tr>\n",
       "      <td>1</td>\n",
       "      <td>wuhan_hu_1|1|orf1ab_polyprotein|MN908947|266|2...</td>\n",
       "      <td>tr|A0A096LP60|A0A096LP60_HUMAN</td>\n",
       "      <td>85.714</td>\n",
       "      <td>7</td>\n",
       "      <td>1</td>\n",
       "      <td>0</td>\n",
       "      <td>1</td>\n",
       "      <td>7</td>\n",
       "      <td>75</td>\n",
       "      <td>81</td>\n",
       "      <td>65.0</td>\n",
       "      <td>18.1</td>\n",
       "      <td>6</td>\n",
       "      <td>tr|A0A096LP60|A0A096LP60_HUMAN AP2-associated ...</td>\n",
       "    </tr>\n",
       "    <tr>\n",
       "      <td>2</td>\n",
       "      <td>wuhan_hu_1|1|orf1ab_polyprotein|MN908947|266|2...</td>\n",
       "      <td>tr|A0A096LP25|A0A096LP25_HUMAN</td>\n",
       "      <td>75.000</td>\n",
       "      <td>8</td>\n",
       "      <td>2</td>\n",
       "      <td>0</td>\n",
       "      <td>1</td>\n",
       "      <td>8</td>\n",
       "      <td>81</td>\n",
       "      <td>88</td>\n",
       "      <td>68.0</td>\n",
       "      <td>18.1</td>\n",
       "      <td>6</td>\n",
       "      <td>tr|A0A096LP25|A0A096LP25_HUMAN AP2-associated ...</td>\n",
       "    </tr>\n",
       "    <tr>\n",
       "      <td>3</td>\n",
       "      <td>wuhan_hu_1|1|orf1ab_polyprotein|MN908947|266|2...</td>\n",
       "      <td>tr|A0A096LNZ0|A0A096LNZ0_HUMAN</td>\n",
       "      <td>75.000</td>\n",
       "      <td>8</td>\n",
       "      <td>2</td>\n",
       "      <td>0</td>\n",
       "      <td>1</td>\n",
       "      <td>8</td>\n",
       "      <td>81</td>\n",
       "      <td>88</td>\n",
       "      <td>73.0</td>\n",
       "      <td>18.1</td>\n",
       "      <td>6</td>\n",
       "      <td>tr|A0A096LNZ0|A0A096LNZ0_HUMAN AP2-associated ...</td>\n",
       "    </tr>\n",
       "    <tr>\n",
       "      <td>4</td>\n",
       "      <td>wuhan_hu_1|1|orf1ab_polyprotein|MN908947|266|2...</td>\n",
       "      <td>tr|A0A0U1RRB6|A0A0U1RRB6_HUMAN</td>\n",
       "      <td>75.000</td>\n",
       "      <td>8</td>\n",
       "      <td>2</td>\n",
       "      <td>0</td>\n",
       "      <td>3</td>\n",
       "      <td>10</td>\n",
       "      <td>715</td>\n",
       "      <td>722</td>\n",
       "      <td>82.0</td>\n",
       "      <td>17.7</td>\n",
       "      <td>6</td>\n",
       "      <td>tr|A0A0U1RRB6|A0A0U1RRB6_HUMAN Exocyst complex...</td>\n",
       "    </tr>\n",
       "  </tbody>\n",
       "</table>\n",
       "</div>"
      ],
      "text/plain": [
       "                                              qseqid  \\\n",
       "0  wuhan_hu_1|1|orf1ab_polyprotein|MN908947|266|2...   \n",
       "1  wuhan_hu_1|1|orf1ab_polyprotein|MN908947|266|2...   \n",
       "2  wuhan_hu_1|1|orf1ab_polyprotein|MN908947|266|2...   \n",
       "3  wuhan_hu_1|1|orf1ab_polyprotein|MN908947|266|2...   \n",
       "4  wuhan_hu_1|1|orf1ab_polyprotein|MN908947|266|2...   \n",
       "\n",
       "                           sseqid  pident  length  mismatch  gapopen  qstart  \\\n",
       "0          tr|B3KUB4|B3KUB4_HUMAN  75.000       8         2        0       1   \n",
       "1  tr|A0A096LP60|A0A096LP60_HUMAN  85.714       7         1        0       1   \n",
       "2  tr|A0A096LP25|A0A096LP25_HUMAN  75.000       8         2        0       1   \n",
       "3  tr|A0A096LNZ0|A0A096LNZ0_HUMAN  75.000       8         2        0       1   \n",
       "4  tr|A0A0U1RRB6|A0A0U1RRB6_HUMAN  75.000       8         2        0       3   \n",
       "\n",
       "   qend  sstart  send  evalue  bitscore  nident  \\\n",
       "0     8     139   146    47.0      18.5       6   \n",
       "1     7      75    81    65.0      18.1       6   \n",
       "2     8      81    88    68.0      18.1       6   \n",
       "3     8      81    88    73.0      18.1       6   \n",
       "4    10     715   722    82.0      17.7       6   \n",
       "\n",
       "                                               sname  \n",
       "0  tr|B3KUB4|B3KUB4_HUMAN Carbonic anhydrase OS=H...  \n",
       "1  tr|A0A096LP60|A0A096LP60_HUMAN AP2-associated ...  \n",
       "2  tr|A0A096LP25|A0A096LP25_HUMAN AP2-associated ...  \n",
       "3  tr|A0A096LNZ0|A0A096LNZ0_HUMAN AP2-associated ...  \n",
       "4  tr|A0A0U1RRB6|A0A0U1RRB6_HUMAN Exocyst complex...  "
      ]
     },
     "execution_count": 62,
     "metadata": {},
     "output_type": "execute_result"
    }
   ],
   "source": [
    "print(peplen)\n",
    "import pandas as pd\n",
    "blast = pd.read_csv(\"result/blast.out\", sep=\"\\t\", header = None)\n",
    "blast.columns=[\"qseqid\", 'sseqid', 'pident', 'length', 'mismatch', 'gapopen', 'qstart', 'qend', 'sstart', 'send', 'evalue', 'bitscore', 'nident','sname']\n",
    "blast.head()\n",
    "    "
   ]
  },
  {
   "cell_type": "code",
   "execution_count": 67,
   "metadata": {},
   "outputs": [
    {
     "data": {
      "text/html": [
       "<div>\n",
       "<style scoped>\n",
       "    .dataframe tbody tr th:only-of-type {\n",
       "        vertical-align: middle;\n",
       "    }\n",
       "\n",
       "    .dataframe tbody tr th {\n",
       "        vertical-align: top;\n",
       "    }\n",
       "\n",
       "    .dataframe thead th {\n",
       "        text-align: right;\n",
       "    }\n",
       "</style>\n",
       "<table border=\"1\" class=\"dataframe\">\n",
       "  <thead>\n",
       "    <tr style=\"text-align: right;\">\n",
       "      <th></th>\n",
       "      <th>qseqid</th>\n",
       "      <th>sseqid</th>\n",
       "      <th>pident</th>\n",
       "      <th>length</th>\n",
       "      <th>mismatch</th>\n",
       "      <th>gapopen</th>\n",
       "      <th>qstart</th>\n",
       "      <th>qend</th>\n",
       "      <th>sstart</th>\n",
       "      <th>send</th>\n",
       "      <th>evalue</th>\n",
       "      <th>bitscore</th>\n",
       "      <th>nident</th>\n",
       "      <th>sname</th>\n",
       "    </tr>\n",
       "  </thead>\n",
       "  <tbody>\n",
       "    <tr>\n",
       "      <td>849</td>\n",
       "      <td>wuhan_hu_1|1|orf1ab_polyprotein|MN908947|266|2...</td>\n",
       "      <td>tr|A0A087X1X6|A0A087X1X6_HUMAN</td>\n",
       "      <td>90.0</td>\n",
       "      <td>10</td>\n",
       "      <td>0</td>\n",
       "      <td>1</td>\n",
       "      <td>1</td>\n",
       "      <td>10</td>\n",
       "      <td>322</td>\n",
       "      <td>330</td>\n",
       "      <td>93.0</td>\n",
       "      <td>17.7</td>\n",
       "      <td>9</td>\n",
       "      <td>tr|A0A087X1X6|A0A087X1X6_HUMAN Forkhead box pr...</td>\n",
       "    </tr>\n",
       "    <tr>\n",
       "      <td>1000</td>\n",
       "      <td>wuhan_hu_1|1|orf1ab_polyprotein|MN908947|266|2...</td>\n",
       "      <td>tr|B3KUL3|B3KUL3_HUMAN</td>\n",
       "      <td>50.0</td>\n",
       "      <td>18</td>\n",
       "      <td>1</td>\n",
       "      <td>1</td>\n",
       "      <td>1</td>\n",
       "      <td>10</td>\n",
       "      <td>85</td>\n",
       "      <td>102</td>\n",
       "      <td>82.0</td>\n",
       "      <td>17.7</td>\n",
       "      <td>9</td>\n",
       "      <td>tr|B3KUL3|B3KUL3_HUMAN Ferredoxin-fold anticod...</td>\n",
       "    </tr>\n",
       "    <tr>\n",
       "      <td>1001</td>\n",
       "      <td>wuhan_hu_1|1|orf1ab_polyprotein|MN908947|266|2...</td>\n",
       "      <td>tr|F6VJS9|F6VJS9_HUMAN</td>\n",
       "      <td>50.0</td>\n",
       "      <td>18</td>\n",
       "      <td>1</td>\n",
       "      <td>1</td>\n",
       "      <td>1</td>\n",
       "      <td>10</td>\n",
       "      <td>9</td>\n",
       "      <td>26</td>\n",
       "      <td>83.0</td>\n",
       "      <td>17.7</td>\n",
       "      <td>9</td>\n",
       "      <td>tr|F6VJS9|F6VJS9_HUMAN Uncharacterized protein...</td>\n",
       "    </tr>\n",
       "    <tr>\n",
       "      <td>4647</td>\n",
       "      <td>wuhan_hu_1|1|orf1ab_polyprotein|MN908947|266|2...</td>\n",
       "      <td>tr|A6NEM2|A6NEM2_HUMAN</td>\n",
       "      <td>90.0</td>\n",
       "      <td>10</td>\n",
       "      <td>1</td>\n",
       "      <td>0</td>\n",
       "      <td>1</td>\n",
       "      <td>10</td>\n",
       "      <td>839</td>\n",
       "      <td>848</td>\n",
       "      <td>4.5</td>\n",
       "      <td>21.6</td>\n",
       "      <td>9</td>\n",
       "      <td>tr|A6NEM2|A6NEM2_HUMAN Host cell factor 1 OS=H...</td>\n",
       "    </tr>\n",
       "    <tr>\n",
       "      <td>9907</td>\n",
       "      <td>wuhan_hu_1|1|orf1ab_polyprotein|MN908947|266|2...</td>\n",
       "      <td>tr|H0YJ08|H0YJ08_HUMAN</td>\n",
       "      <td>90.0</td>\n",
       "      <td>10</td>\n",
       "      <td>1</td>\n",
       "      <td>0</td>\n",
       "      <td>1</td>\n",
       "      <td>10</td>\n",
       "      <td>47</td>\n",
       "      <td>56</td>\n",
       "      <td>95.0</td>\n",
       "      <td>17.7</td>\n",
       "      <td>9</td>\n",
       "      <td>tr|H0YJ08|H0YJ08_HUMAN AP-1 complex subunit ga...</td>\n",
       "    </tr>\n",
       "  </tbody>\n",
       "</table>\n",
       "</div>"
      ],
      "text/plain": [
       "                                                 qseqid  \\\n",
       "849   wuhan_hu_1|1|orf1ab_polyprotein|MN908947|266|2...   \n",
       "1000  wuhan_hu_1|1|orf1ab_polyprotein|MN908947|266|2...   \n",
       "1001  wuhan_hu_1|1|orf1ab_polyprotein|MN908947|266|2...   \n",
       "4647  wuhan_hu_1|1|orf1ab_polyprotein|MN908947|266|2...   \n",
       "9907  wuhan_hu_1|1|orf1ab_polyprotein|MN908947|266|2...   \n",
       "\n",
       "                              sseqid  pident  length  mismatch  gapopen  \\\n",
       "849   tr|A0A087X1X6|A0A087X1X6_HUMAN    90.0      10         0        1   \n",
       "1000          tr|B3KUL3|B3KUL3_HUMAN    50.0      18         1        1   \n",
       "1001          tr|F6VJS9|F6VJS9_HUMAN    50.0      18         1        1   \n",
       "4647          tr|A6NEM2|A6NEM2_HUMAN    90.0      10         1        0   \n",
       "9907          tr|H0YJ08|H0YJ08_HUMAN    90.0      10         1        0   \n",
       "\n",
       "      qstart  qend  sstart  send  evalue  bitscore  nident  \\\n",
       "849        1    10     322   330    93.0      17.7       9   \n",
       "1000       1    10      85   102    82.0      17.7       9   \n",
       "1001       1    10       9    26    83.0      17.7       9   \n",
       "4647       1    10     839   848     4.5      21.6       9   \n",
       "9907       1    10      47    56    95.0      17.7       9   \n",
       "\n",
       "                                                  sname  \n",
       "849   tr|A0A087X1X6|A0A087X1X6_HUMAN Forkhead box pr...  \n",
       "1000  tr|B3KUL3|B3KUL3_HUMAN Ferredoxin-fold anticod...  \n",
       "1001  tr|F6VJS9|F6VJS9_HUMAN Uncharacterized protein...  \n",
       "4647  tr|A6NEM2|A6NEM2_HUMAN Host cell factor 1 OS=H...  \n",
       "9907  tr|H0YJ08|H0YJ08_HUMAN AP-1 complex subunit ga...  "
      ]
     },
     "execution_count": 67,
     "metadata": {},
     "output_type": "execute_result"
    }
   ],
   "source": [
    "blast_ok = blast[blast[\"nident\"]==(peplen-1)]\n",
    "blast_ok.to_csv(\"result/blast_filtered_9.out\", sep=\"\\t\")\n",
    "blast_ok.head()\n"
   ]
  },
  {
   "cell_type": "code",
   "execution_count": 68,
   "metadata": {},
   "outputs": [
    {
     "name": "stdout",
     "output_type": "stream",
     "text": [
      "[l7 29487f7] add 9\n",
      " 4 files changed, 52685 insertions(+), 11762 deletions(-)\n",
      " rewrite result/blast_filtered_7.out (99%)\n",
      " create mode 100644 result/blast_filtered_9.out\n",
      "fatal: The upstream branch of your current branch does not match\n",
      "the name of your current branch.  To push to the upstream branch\n",
      "on the remote, use\n",
      "\n",
      "    git push origin HEAD:master\n",
      "\n",
      "To push to the branch of the same name on the remote, use\n",
      "\n",
      "    git push origin l7\n",
      "\n",
      "To choose either option permanently, see push.default in 'git help config'.\n"
     ]
    }
   ],
   "source": [
    "!git add result/blast_filtered_9.out\n",
    "!git commit -am \"add 9\"\n",
    "!git push"
   ]
  },
  {
   "cell_type": "markdown",
   "metadata": {},
   "source": [
    "# [16.09]"
   ]
  },
  {
   "cell_type": "code",
   "execution_count": 3,
   "metadata": {},
   "outputs": [],
   "source": [
    "gunzip sequences_2020-06-16_13-19.fasta.gz"
   ]
  },
  {
   "cell_type": "code",
   "execution_count": 6,
   "metadata": {},
   "outputs": [
    {
     "name": "stdout",
     "output_type": "stream",
     "text": [
      "\n",
      "\n",
      "Building a new DB, current time: 09/16/2020 16:03:22\n",
      "New DB name:   /data11/bio/PROJECTS/CoV/commotSeqsWithHuman/uniprot_human\n",
      "New DB title:  sequences_2020-06-16_13-19.fasta\n",
      "Sequence type: Protein\n",
      "Keep MBits: T\n",
      "Maximum file size: 1000000000B\n",
      "Adding sequences from FASTA; added 54715 sequences in 1.02822 seconds.\n"
     ]
    }
   ],
   "source": [
    "makeblastdb -in sequences_2020-06-16_13-19.fasta -out uniprot_human -dbtype prot"
   ]
  },
  {
   "cell_type": "code",
   "execution_count": 5,
   "metadata": {},
   "outputs": [],
   "source": [
    "cp ../metatranscriptome/ref/wuhan_hu_1.gb ."
   ]
  },
  {
   "cell_type": "code",
   "execution_count": 2,
   "metadata": {},
   "outputs": [],
   "source": [
    "#faa_sars=\"../gisaid/gisaid/prokka/hCoV_19_Wuhan_Hu_1/hCoV_19_Wuhan_Hu_1.faa\""
   ]
  },
  {
   "cell_type": "code",
   "execution_count": 8,
   "metadata": {},
   "outputs": [],
   "source": [
    "GB2faa.pl wuhan_hu_1.gb > wuhan_hu_1.faa\n",
    "faa_sars=\"wuhan_hu_1.faa\""
   ]
  },
  {
   "cell_type": "code",
   "execution_count": 15,
   "metadata": {},
   "outputs": [
    {
     "name": "stdout",
     "output_type": "stream",
     "text": [
      "143 blast_results\n"
     ]
    }
   ],
   "source": [
    "blastp -db uniprot_human -query $faa_sars -outfmt 6 -evalue 30 > blast_results\n",
    "wc -l blast_results"
   ]
  },
  {
   "cell_type": "code",
   "execution_count": 10,
   "metadata": {},
   "outputs": [],
   "source": [
    "blastp -db uniprot_human -query $faa_sars > blast_results_full"
   ]
  },
  {
   "cell_type": "markdown",
   "metadata": {},
   "source": [
    "### look blast results\n",
    "***"
   ]
  },
  {
   "cell_type": "code",
   "execution_count": 4,
   "metadata": {},
   "outputs": [],
   "source": [
    "blast = read.delim(\"blast_results\", head = F)"
   ]
  },
  {
   "cell_type": "code",
   "execution_count": 6,
   "metadata": {},
   "outputs": [],
   "source": [
    "colnames(blast) = c(\"qid\", \"sid\", \"identity\", \"length\", \"mismatches\", \"gaps\", \"qstart\", \"qend\", \"sstart\", \"send\", \"evalue\", \"bitscore\")"
   ]
  },
  {
   "cell_type": "code",
   "execution_count": 10,
   "metadata": {},
   "outputs": [],
   "source": [
    "blast = blast[order(-blast$identity),]\n"
   ]
  },
  {
   "cell_type": "code",
   "execution_count": 11,
   "metadata": {},
   "outputs": [
    {
     "data": {
      "text/html": [
       "<table>\n",
       "<thead><tr><th></th><th scope=col>qid</th><th scope=col>sid</th><th scope=col>identity</th><th scope=col>length</th><th scope=col>mismatches</th><th scope=col>gaps</th><th scope=col>qstart</th><th scope=col>qend</th><th scope=col>sstart</th><th scope=col>send</th><th scope=col>evalue</th><th scope=col>bitscore</th></tr></thead>\n",
       "<tbody>\n",
       "\t<tr><th scope=row>14</th><td>hCoV_19_Wuhan_Hu_1_00002      </td><td>tr|A0A5K1VW56|A0A5K1VW56_HUMAN</td><td>53.846                        </td><td>26                            </td><td>12                            </td><td>0                             </td><td>1096                          </td><td>1121                          </td><td>237                           </td><td>262                           </td><td>3.2                           </td><td>32.7                          </td></tr>\n",
       "\t<tr><th scope=row>44</th><td>hCoV_19_Wuhan_Hu_1_00004      </td><td>tr|A0A0A0MT16|A0A0A0MT16_HUMAN</td><td>50.000                        </td><td>20                            </td><td>10                            </td><td>0                             </td><td> 127                          </td><td> 146                          </td><td> 12                           </td><td> 31                           </td><td>3.4                           </td><td>29.6                          </td></tr>\n",
       "\t<tr><th scope=row>50</th><td>hCoV_19_Wuhan_Hu_1_00007      </td><td>tr|K7EQ58|K7EQ58_HUMAN        </td><td>47.368                        </td><td>19                            </td><td>10                            </td><td>0                             </td><td>  35                          </td><td>  53                          </td><td>116                           </td><td>134                           </td><td>3.7                           </td><td>26.6                          </td></tr>\n",
       "\t<tr><th scope=row>51</th><td>hCoV_19_Wuhan_Hu_1_00007      </td><td>tr|E9PL27|E9PL27_HUMAN        </td><td>47.368                        </td><td>19                            </td><td>10                            </td><td>0                             </td><td>  35                          </td><td>  53                          </td><td>116                           </td><td>134                           </td><td>3.8                           </td><td>26.6                          </td></tr>\n",
       "\t<tr><th scope=row>52</th><td>hCoV_19_Wuhan_Hu_1_00007      </td><td>tr|E9PRR6|E9PRR6_HUMAN        </td><td>47.368                        </td><td>19                            </td><td>10                            </td><td>0                             </td><td>  35                          </td><td>  53                          </td><td>116                           </td><td>134                           </td><td>4.5                           </td><td>26.6                          </td></tr>\n",
       "\t<tr><th scope=row>57</th><td>hCoV_19_Wuhan_Hu_1_00008      </td><td>tr|B4DWB8|B4DWB8_HUMAN        </td><td>44.828                        </td><td>29                            </td><td>15                            </td><td>1                             </td><td>  76                          </td><td> 103                          </td><td>140                           </td><td>168                           </td><td>2.3                           </td><td>27.7                          </td></tr>\n",
       "</tbody>\n",
       "</table>\n"
      ],
      "text/latex": [
       "\\begin{tabular}{r|llllllllllll}\n",
       "  & qid & sid & identity & length & mismatches & gaps & qstart & qend & sstart & send & evalue & bitscore\\\\\n",
       "\\hline\n",
       "\t14 & hCoV\\_19\\_Wuhan\\_Hu\\_1\\_00002                   & tr\\textbar{}A0A5K1VW56\\textbar{}A0A5K1VW56\\_HUMAN & 53.846                                               & 26                                                   & 12                                                   & 0                                                    & 1096                                                 & 1121                                                 & 237                                                  & 262                                                  & 3.2                                                  & 32.7                                                \\\\\n",
       "\t44 & hCoV\\_19\\_Wuhan\\_Hu\\_1\\_00004                   & tr\\textbar{}A0A0A0MT16\\textbar{}A0A0A0MT16\\_HUMAN & 50.000                                               & 20                                                   & 10                                                   & 0                                                    &  127                                                 &  146                                                 &  12                                                  &  31                                                  & 3.4                                                  & 29.6                                                \\\\\n",
       "\t50 & hCoV\\_19\\_Wuhan\\_Hu\\_1\\_00007                   & tr\\textbar{}K7EQ58\\textbar{}K7EQ58\\_HUMAN         & 47.368                                               & 19                                                   & 10                                                   & 0                                                    &   35                                                 &   53                                                 & 116                                                  & 134                                                  & 3.7                                                  & 26.6                                                \\\\\n",
       "\t51 & hCoV\\_19\\_Wuhan\\_Hu\\_1\\_00007                   & tr\\textbar{}E9PL27\\textbar{}E9PL27\\_HUMAN         & 47.368                                               & 19                                                   & 10                                                   & 0                                                    &   35                                                 &   53                                                 & 116                                                  & 134                                                  & 3.8                                                  & 26.6                                                \\\\\n",
       "\t52 & hCoV\\_19\\_Wuhan\\_Hu\\_1\\_00007                   & tr\\textbar{}E9PRR6\\textbar{}E9PRR6\\_HUMAN         & 47.368                                               & 19                                                   & 10                                                   & 0                                                    &   35                                                 &   53                                                 & 116                                                  & 134                                                  & 4.5                                                  & 26.6                                                \\\\\n",
       "\t57 & hCoV\\_19\\_Wuhan\\_Hu\\_1\\_00008                   & tr\\textbar{}B4DWB8\\textbar{}B4DWB8\\_HUMAN         & 44.828                                               & 29                                                   & 15                                                   & 1                                                    &   76                                                 &  103                                                 & 140                                                  & 168                                                  & 2.3                                                  & 27.7                                                \\\\\n",
       "\\end{tabular}\n"
      ],
      "text/markdown": [
       "\n",
       "| <!--/--> | qid | sid | identity | length | mismatches | gaps | qstart | qend | sstart | send | evalue | bitscore |\n",
       "|---|---|---|---|---|---|---|---|---|---|---|---|---|\n",
       "| 14 | hCoV_19_Wuhan_Hu_1_00002       | tr|A0A5K1VW56|A0A5K1VW56_HUMAN | 53.846                         | 26                             | 12                             | 0                              | 1096                           | 1121                           | 237                            | 262                            | 3.2                            | 32.7                           |\n",
       "| 44 | hCoV_19_Wuhan_Hu_1_00004       | tr|A0A0A0MT16|A0A0A0MT16_HUMAN | 50.000                         | 20                             | 10                             | 0                              |  127                           |  146                           |  12                            |  31                            | 3.4                            | 29.6                           |\n",
       "| 50 | hCoV_19_Wuhan_Hu_1_00007       | tr|K7EQ58|K7EQ58_HUMAN         | 47.368                         | 19                             | 10                             | 0                              |   35                           |   53                           | 116                            | 134                            | 3.7                            | 26.6                           |\n",
       "| 51 | hCoV_19_Wuhan_Hu_1_00007       | tr|E9PL27|E9PL27_HUMAN         | 47.368                         | 19                             | 10                             | 0                              |   35                           |   53                           | 116                            | 134                            | 3.8                            | 26.6                           |\n",
       "| 52 | hCoV_19_Wuhan_Hu_1_00007       | tr|E9PRR6|E9PRR6_HUMAN         | 47.368                         | 19                             | 10                             | 0                              |   35                           |   53                           | 116                            | 134                            | 4.5                            | 26.6                           |\n",
       "| 57 | hCoV_19_Wuhan_Hu_1_00008       | tr|B4DWB8|B4DWB8_HUMAN         | 44.828                         | 29                             | 15                             | 1                              |   76                           |  103                           | 140                            | 168                            | 2.3                            | 27.7                           |\n",
       "\n"
      ],
      "text/plain": [
       "   qid                      sid                            identity length\n",
       "14 hCoV_19_Wuhan_Hu_1_00002 tr|A0A5K1VW56|A0A5K1VW56_HUMAN 53.846   26    \n",
       "44 hCoV_19_Wuhan_Hu_1_00004 tr|A0A0A0MT16|A0A0A0MT16_HUMAN 50.000   20    \n",
       "50 hCoV_19_Wuhan_Hu_1_00007 tr|K7EQ58|K7EQ58_HUMAN         47.368   19    \n",
       "51 hCoV_19_Wuhan_Hu_1_00007 tr|E9PL27|E9PL27_HUMAN         47.368   19    \n",
       "52 hCoV_19_Wuhan_Hu_1_00007 tr|E9PRR6|E9PRR6_HUMAN         47.368   19    \n",
       "57 hCoV_19_Wuhan_Hu_1_00008 tr|B4DWB8|B4DWB8_HUMAN         44.828   29    \n",
       "   mismatches gaps qstart qend sstart send evalue bitscore\n",
       "14 12         0    1096   1121 237    262  3.2    32.7    \n",
       "44 10         0     127    146  12     31  3.4    29.6    \n",
       "50 10         0      35     53 116    134  3.7    26.6    \n",
       "51 10         0      35     53 116    134  3.8    26.6    \n",
       "52 10         0      35     53 116    134  4.5    26.6    \n",
       "57 15         1      76    103 140    168  2.3    27.7    "
      ]
     },
     "metadata": {},
     "output_type": "display_data"
    }
   ],
   "source": [
    "head(blast)"
   ]
  },
  {
   "cell_type": "code",
   "execution_count": null,
   "metadata": {},
   "outputs": [],
   "source": []
  }
 ],
 "metadata": {
  "kernelspec": {
   "display_name": "Python 3",
   "language": "python",
   "name": "python3"
  },
  "language_info": {
   "codemirror_mode": {
    "name": "ipython",
    "version": 3
   },
   "file_extension": ".py",
   "mimetype": "text/x-python",
   "name": "python",
   "nbconvert_exporter": "python",
   "pygments_lexer": "ipython3",
   "version": "3.7.4"
  }
 },
 "nbformat": 4,
 "nbformat_minor": 4
}
